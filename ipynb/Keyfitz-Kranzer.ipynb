{
  "cells": [
    {
      "cell_type": "markdown",
      "metadata": {
        "id": "Hb4GZY-XKRP4"
      },
      "source": [
        "# Il sistema di Keyfitz-Kranzer\n",
        "\n",
        "Consideriamo il seguente sistema\n",
        "$$\n",
        "\\begin{cases}\n",
        "  \\partial_{t}\\rho +\\partial_{x} (\\rho u)=0, & t >0, \\, x \\in \\mathbb{R}\n",
        "  \\\\\n",
        "  \\partial_{t} (\\rho u) + \\partial_{x} \\left(\\rho u (u + \\frac{\\mu}{\\rho})\\right)=a(t) \\rho, & t>0, \\ x \\in \\mathbb{R},\n",
        "\\end{cases}\n",
        "$$\n",
        "dove $\\mu > 0$."
      ]
    },
    {
      "cell_type": "markdown",
      "metadata": {},
      "source": [
        "## Sistema omogeneo"
      ]
    },
    {
      "cell_type": "code",
      "execution_count": 9,
      "metadata": {},
      "outputs": [],
      "source": [
        "import sympy as sp\n",
        "from IPython.display import Markdown"
      ]
    },
    {
      "cell_type": "code",
      "execution_count": 10,
      "metadata": {},
      "outputs": [],
      "source": [
        "# variabili\n",
        "rho = sp.Symbol('\\\\rho', real=True, positive=True)\n",
        "q = sp.Symbol('q', real=True)\n",
        "\n",
        "# costante\n",
        "mu = sp.Symbol('\\\\mu', real=True, positive=True)"
      ]
    },
    {
      "cell_type": "code",
      "execution_count": 11,
      "metadata": {},
      "outputs": [
        {
          "data": {
            "text/markdown": [
              "Matrice Jacobiana = $\\left[\\begin{matrix}0 & 1\\\\- \\frac{q \\left(\\mu + q\\right)}{\\rho^{2}} & \\frac{\\mu + 2 q}{\\rho}\\end{matrix}\\right]$"
            ],
            "text/plain": [
              "<IPython.core.display.Markdown object>"
            ]
          },
          "metadata": {},
          "output_type": "display_data"
        }
      ],
      "source": [
        "# flusso\n",
        "f1 = q\n",
        "f2 = q * (q + mu) /rho\n",
        "F = sp.Matrix([f1, f2])\n",
        "\n",
        "# Matrice Jacobiana del flusso\n",
        "DF = sp.simplify(F.jacobian([rho, q]))\n",
        "display(Markdown(r\"Matrice Jacobiana = ${}$\".format(sp.latex(DF))))"
      ]
    },
    {
      "cell_type": "code",
      "execution_count": 12,
      "metadata": {},
      "outputs": [
        {
          "data": {
            "text/markdown": [
              "$\\lambda_1 = \\frac{\\mu}{\\rho} + \\frac{q}{\\rho}$"
            ],
            "text/plain": [
              "<IPython.core.display.Markdown object>"
            ]
          },
          "metadata": {},
          "output_type": "display_data"
        },
        {
          "data": {
            "text/markdown": [
              "$\\lambda_2 = \\frac{q}{\\rho}$"
            ],
            "text/plain": [
              "<IPython.core.display.Markdown object>"
            ]
          },
          "metadata": {},
          "output_type": "display_data"
        }
      ],
      "source": [
        "# autovalori\n",
        "((lam2,_,e2), (lam1,_,e1)) = DF.eigenvects()\n",
        "lam1 = sp.simplify(lam1)\n",
        "lam2 = sp.simplify(lam2)\n",
        "display(Markdown(r\"$\\lambda_1 = {}$\".format(sp.latex(sp.expand(lam1)))))\n",
        "display(Markdown(r\"$\\lambda_2 = {}$\".format(sp.latex(sp.expand(lam2)))))"
      ]
    },
    {
      "cell_type": "markdown",
      "metadata": {},
      "source": [
        "## Cambio di variabili $\\tilde u = u + \\int_0^t a(s) ds$"
      ]
    },
    {
      "cell_type": "markdown",
      "metadata": {},
      "source": [
        "Otteniamo il seguente sistema\n",
        "$$\n",
        "\\begin{cases}\n",
        "  \\partial_{t}\\rho +\\partial_{x} (\\rho (\\tilde u + \\int_0^t a(s) ds))=0, & t >0, \\, x \\in \\mathbb{R}\n",
        "  \\\\\n",
        "  \\partial_{t} (\\rho \\tilde u) + \\partial_{x} \\left(\\rho \\tilde u (\\tilde u + \\int_0^t a(s) ds + \\mu \\tilde u)\\right)=0, & t>0, \\ x \\in \\mathbb{R},\n",
        "\\end{cases}\n",
        "$$\n",
        "dove $\\mu > 0$."
      ]
    },
    {
      "cell_type": "markdown",
      "metadata": {},
      "source": [
        "Usando la variabile $q = \\rho \\tilde u$ si ottiene il sistema nelle variabili conservate $(\\rho, q)$:\n",
        "$$\n",
        "\\begin{cases}\n",
        "  \\partial_{t}\\rho +\\partial_{x} (q + \\rho \\int_0^t a(s) ds)=0, & t >0, \\, x \\in \\mathbb{R}\n",
        "  \\\\\n",
        "  \\partial_{t} q + \\partial_{x}\\left(\\frac{q^2}{\\rho} + q \\int_0^t a(s) ds + \\mu \\frac{q^2}{\\rho} \\right)=0, & t>0, \\ x \\in \\mathbb{R},\n",
        "\\end{cases}\n",
        "$$\n"
      ]
    },
    {
      "cell_type": "markdown",
      "metadata": {},
      "source": [
        "### Campi caratteristici"
      ]
    },
    {
      "cell_type": "markdown",
      "metadata": {},
      "source": [
        "Usiamo la funzione $A(t)$ per $\\int_0^t a(s) ds$."
      ]
    },
    {
      "cell_type": "code",
      "execution_count": 2,
      "metadata": {
        "id": "wIrb1MTJrSKg"
      },
      "outputs": [],
      "source": [
        "import sympy as sp\n",
        "from IPython.display import Markdown"
      ]
    },
    {
      "cell_type": "markdown",
      "metadata": {},
      "source": [
        "Introduciamo le variabili principali..."
      ]
    },
    {
      "cell_type": "code",
      "execution_count": 3,
      "metadata": {
        "id": "ybt1h4NLrWWE"
      },
      "outputs": [],
      "source": [
        "# variabili\n",
        "rho = sp.Symbol('\\\\rho', real=True, positive=True)\n",
        "q = sp.Symbol('q', real=True)\n",
        "t = sp.Symbol('t', real=True)\n",
        "\n",
        "# costante\n",
        "mu = sp.Symbol('\\\\mu', real=True, positive=True)\n",
        "\n",
        "# funzione\n",
        "A = sp.Function('A')"
      ]
    },
    {
      "cell_type": "markdown",
      "metadata": {},
      "source": [
        "...il campo vettoriale"
      ]
    },
    {
      "cell_type": "code",
      "execution_count": 4,
      "metadata": {},
      "outputs": [
        {
          "data": {
            "text/markdown": [
              "Matrice Jacobiana = $\\left[\\begin{matrix}A{\\left(t \\right)} & 1\\\\\\frac{q^{2} \\left(- \\mu - 1\\right)}{\\rho^{2}} & \\frac{\\rho A{\\left(t \\right)} + 2 q \\left(\\mu + 1\\right)}{\\rho}\\end{matrix}\\right]$"
            ],
            "text/plain": [
              "<IPython.core.display.Markdown object>"
            ]
          },
          "metadata": {},
          "output_type": "display_data"
        }
      ],
      "source": [
        "# flusso\n",
        "f1 = q + rho*A(t)\n",
        "f2 = (1+mu)*q**2/rho + q*A(t)\n",
        "F = sp.Matrix([f1, f2])\n",
        "\n",
        "# Matrice Jacobiana del flusso\n",
        "DF = sp.simplify(F.jacobian([rho, q]))\n",
        "display(Markdown(r\"Matrice Jacobiana = ${}$\".format(sp.latex(DF))))"
      ]
    },
    {
      "cell_type": "markdown",
      "metadata": {},
      "source": [
        "... autovalori"
      ]
    },
    {
      "cell_type": "code",
      "execution_count": 5,
      "metadata": {},
      "outputs": [
        {
          "data": {
            "text/markdown": [
              "$\\lambda_1 = \\frac{\\sqrt{\\mu} q \\sqrt{\\mu + 1}}{\\rho} + \\frac{\\mu q}{\\rho} + A{\\left(t \\right)} + \\frac{q}{\\rho}$"
            ],
            "text/plain": [
              "<IPython.core.display.Markdown object>"
            ]
          },
          "metadata": {},
          "output_type": "display_data"
        },
        {
          "data": {
            "text/markdown": [
              "$\\lambda_2 = - \\frac{\\sqrt{\\mu} q \\sqrt{\\mu + 1}}{\\rho} + \\frac{\\mu q}{\\rho} + A{\\left(t \\right)} + \\frac{q}{\\rho}$"
            ],
            "text/plain": [
              "<IPython.core.display.Markdown object>"
            ]
          },
          "metadata": {},
          "output_type": "display_data"
        }
      ],
      "source": [
        "# autovalori\n",
        "((lam2,_,e2), (lam1,_,e1)) = DF.eigenvects()\n",
        "lam1 = sp.simplify(lam1)\n",
        "lam2 = sp.simplify(lam2)\n",
        "display(Markdown(r\"$\\lambda_1 = {}$\".format(sp.latex(sp.expand(lam1)))))\n",
        "display(Markdown(r\"$\\lambda_2 = {}$\".format(sp.latex(sp.expand(lam2)))))"
      ]
    },
    {
      "cell_type": "code",
      "execution_count": 8,
      "metadata": {},
      "outputs": [
        {
          "data": {
            "text/latex": [
              "$\\displaystyle \\operatorname{PurePoly}{\\left( lam^{2} + \\frac{- 2 \\mu q - 2 \\rho A{\\left(t \\right)} - 2 q}{\\rho} lam + \\frac{2 \\mu \\rho q A{\\left(t \\right)} + \\mu q^{2} + \\rho^{2} A^{2}{\\left(t \\right)} + 2 \\rho q A{\\left(t \\right)} + q^{2}}{\\rho^{2}}, lam, domain=\\mathbb{Z}\\left(q, A{\\left(t \\right)}, \\mu, \\rho\\right) \\right)}$"
            ],
            "text/plain": [
              "PurePoly(lam**2 + (-2*\\mu*q - 2*\\rho*A(t) - 2*q)/\\rho*lam + (2*\\mu*\\rho*q*A(t) + \\mu*q**2 + \\rho**2*A(t)**2 + 2*\\rho*q*A(t) + q**2)/\\rho**2, lam, domain='ZZ(q,A(t),\\mu,\\rho)')"
            ]
          },
          "metadata": {},
          "output_type": "display_data"
        }
      ],
      "source": [
        "lam = sp.Symbol('lam', real=True)\n",
        "p = DF.charpoly(lam)\n",
        "display(p)"
      ]
    },
    {
      "cell_type": "markdown",
      "metadata": {},
      "source": [
        "...autovettori"
      ]
    },
    {
      "cell_type": "code",
      "execution_count": 17,
      "metadata": {},
      "outputs": [
        {
          "data": {
            "text/markdown": [
              "$r_1 = \\left[\\begin{matrix}\\frac{\\rho}{y}\\\\1\\end{matrix}\\right]$"
            ],
            "text/plain": [
              "<IPython.core.display.Markdown object>"
            ]
          },
          "metadata": {},
          "output_type": "display_data"
        },
        {
          "data": {
            "text/markdown": [
              "$r_2 = \\left[\\begin{matrix}- \\frac{1}{- \\rho \\frac{d}{d \\rho} p{\\left(\\rho \\right)} - \\frac{y}{\\rho}}\\\\1\\end{matrix}\\right]$"
            ],
            "text/plain": [
              "<IPython.core.display.Markdown object>"
            ]
          },
          "metadata": {},
          "output_type": "display_data"
        }
      ],
      "source": [
        "# autovettori\n",
        "e1 = e1[0]\n",
        "e2 = e2[0]\n",
        "display(Markdown(r\"$r_1 = {}$\".format(sp.latex(e1))))\n",
        "display(Markdown(r\"$r_2 = {}$\".format(sp.latex(e2))))\n"
      ]
    },
    {
      "cell_type": "code",
      "execution_count": 22,
      "metadata": {},
      "outputs": [
        {
          "data": {
            "text/markdown": [
              "$r_1 = \\left[\\begin{matrix}\\rho\\\\y\\end{matrix}\\right]$"
            ],
            "text/plain": [
              "<IPython.core.display.Markdown object>"
            ]
          },
          "metadata": {},
          "output_type": "display_data"
        },
        {
          "data": {
            "text/markdown": [
              "$r_2 = \\left[\\begin{matrix}1\\\\\\rho \\frac{d}{d \\rho} p{\\left(\\rho \\right)} + \\frac{y}{\\rho}\\end{matrix}\\right]$"
            ],
            "text/plain": [
              "<IPython.core.display.Markdown object>"
            ]
          },
          "metadata": {},
          "output_type": "display_data"
        }
      ],
      "source": [
        "r1 = e1*y\n",
        "r2 = sp.simplify(e2*(y/rho + rho*sp.diff(p(rho), rho)))\n",
        "display(Markdown(r\"$r_1 = {}$\".format(sp.latex(r1))))\n",
        "display(Markdown(r\"$r_2 = {}$\".format(sp.latex(r2))))"
      ]
    },
    {
      "cell_type": "markdown",
      "metadata": {},
      "source": [
        "Mostriamo che $\\nabla \\lambda_1 \\cdot r_1 >0$ e $\\nabla \\lambda_2 \\cdot r_2 >0$. Qui la derivata seconda di $p$ è convessa!"
      ]
    },
    {
      "cell_type": "code",
      "execution_count": 24,
      "metadata": {},
      "outputs": [
        {
          "data": {
            "text/markdown": [
              "$\\nabla \\lambda_1 \\cdot r_1 = - \\rho^{2} \\frac{d^{2}}{d \\rho^{2}} p{\\left(\\rho \\right)} - 2 \\rho \\frac{d}{d \\rho} p{\\left(\\rho \\right)}$"
            ],
            "text/plain": [
              "<IPython.core.display.Markdown object>"
            ]
          },
          "metadata": {},
          "output_type": "display_data"
        },
        {
          "data": {
            "text/markdown": [
              "$\\nabla \\lambda_2 \\cdot r_2 = 0$"
            ],
            "text/plain": [
              "<IPython.core.display.Markdown object>"
            ]
          },
          "metadata": {},
          "output_type": "display_data"
        }
      ],
      "source": [
        "field_1 = (lam1.diff(rho, 1) * r1[0] + lam1.diff(y, 1) * r1[1]).expand()\n",
        "field_2 = (lam2.diff(rho, 1) * r2[0] + lam2.diff(y, 1) * r2[1]).expand()\n",
        "\n",
        "display(Markdown(r\"$\\nabla \\lambda_1 \\cdot r_1 = {}$\".format(sp.latex(field_1))))\n",
        "display(Markdown(r\"$\\nabla \\lambda_2 \\cdot r_2 = {}$\".format(sp.latex(field_2))))\n"
      ]
    },
    {
      "cell_type": "markdown",
      "metadata": {},
      "source": [
        "### Invarianti di Riemann"
      ]
    },
    {
      "cell_type": "markdown",
      "metadata": {},
      "source": [
        "Gli invarianti di Riemann sono\n",
        "$$\n",
        "v_1 = \\frac{q}{\\rho} + \\int_1^{\\rho} \\frac{\\sqrt{p'(r)}}{r} dr\n",
        "\\qquad \\textrm{ e } \\qquad\n",
        "v_2 = \\frac{q}{\\rho} - \\int_1^{\\rho} \\frac{\\sqrt{p'(r)}}{r} dr.\n",
        "$$"
      ]
    },
    {
      "cell_type": "code",
      "execution_count": 31,
      "metadata": {},
      "outputs": [
        {
          "data": {
            "text/markdown": [
              "$v_1 = \\int\\limits_{1}^{\\rho} \\frac{\\sqrt{\\frac{d}{d r} p{\\left(r \\right)}}}{r}\\, dr + \\frac{q}{\\rho}$"
            ],
            "text/plain": [
              "<IPython.core.display.Markdown object>"
            ]
          },
          "metadata": {},
          "output_type": "display_data"
        },
        {
          "data": {
            "text/markdown": [
              "$v_2 = - \\int\\limits_{1}^{\\rho} \\frac{\\sqrt{\\frac{d}{d r} p{\\left(r \\right)}}}{r}\\, dr + \\frac{q}{\\rho}$"
            ],
            "text/plain": [
              "<IPython.core.display.Markdown object>"
            ]
          },
          "metadata": {},
          "output_type": "display_data"
        }
      ],
      "source": [
        "# variable for the integrals\n",
        "rr = sp.Symbol('r', real=True, positive=True)\n",
        "\n",
        "# Riemann invariants\n",
        "v_1 = q/rho + sp.Integral(sp.sqrt(p(rr).diff(rr))/rr, (rr, 1, rho))\n",
        "v_2 = q/rho - sp.Integral(sp.sqrt(p(rr).diff(rr))/rr, (rr, 1, rho))\n",
        "\n",
        "display(Markdown(r\"$v_1 = {}$\".format(sp.latex(v_1))))\n",
        "display(Markdown(r\"$v_2 = {}$\".format(sp.latex(v_2))))"
      ]
    },
    {
      "cell_type": "markdown",
      "metadata": {},
      "source": [
        "Verifichiamo che $\\nabla v_1 \\cdot r_1 = 0$ e che $\\nabla v_2 \\cdot r_2 = 0$."
      ]
    },
    {
      "cell_type": "code",
      "execution_count": 33,
      "metadata": {},
      "outputs": [],
      "source": [
        "grad_v_1 = sp.Matrix([v_1]).jacobian([rho, q])\n",
        "grad_v_2 = sp.Matrix([v_2]).jacobian([rho, q])\n",
        "\n",
        "assert sp.simplify(sp.MatMul(grad_v_1, r1).doit()[0]) == 0\n",
        "assert sp.simplify(sp.MatMul(grad_v_2, r2).doit()[0]) == 0"
      ]
    },
    {
      "cell_type": "code",
      "execution_count": 40,
      "metadata": {},
      "outputs": [
        {
          "data": {
            "text/markdown": [
              "$\\nabla v_1 \\cdot r_2 = 2 \\sqrt{\\frac{d}{d \\rho} p{\\left(\\rho \\right)}}$"
            ],
            "text/plain": [
              "<IPython.core.display.Markdown object>"
            ]
          },
          "metadata": {},
          "output_type": "display_data"
        },
        {
          "data": {
            "text/markdown": [
              "$\\nabla v_2 \\cdot r_1 = 2 \\sqrt{\\frac{d}{d \\rho} p{\\left(\\rho \\right)}}$"
            ],
            "text/plain": [
              "<IPython.core.display.Markdown object>"
            ]
          },
          "metadata": {},
          "output_type": "display_data"
        }
      ],
      "source": [
        "v1_r2 = sp.simplify(sp.MatMul(grad_v_1, r2).doit()[0])\n",
        "v2_r1 = sp.simplify(sp.MatMul(grad_v_1, r2).doit()[0])\n",
        "\n",
        "display(Markdown(r\"$\\nabla v_1 \\cdot r_2 = {}$\".format(sp.latex(v1_r2))))\n",
        "display(Markdown(r\"$\\nabla v_2 \\cdot r_1 = {}$\".format(sp.latex(v2_r1))))"
      ]
    },
    {
      "cell_type": "markdown",
      "metadata": {},
      "source": [
        "## Caso con pressione $p(\\rho) = k \\rho^{\\gamma}$"
      ]
    },
    {
      "cell_type": "markdown",
      "metadata": {},
      "source": [
        "Consideriamo il termine di pressione $p(\\rho) = k \\rho^\\gamma$ con $k > 0$ e $\\gamma > 1$."
      ]
    },
    {
      "cell_type": "code",
      "execution_count": null,
      "metadata": {},
      "outputs": [],
      "source": [
        "# Pressione\n",
        "k = sp.Symbol('k', real=True, positive=True)\n",
        "gamma = sp.Symbol('\\\\gamma', real=True, positive=True)"
      ]
    },
    {
      "cell_type": "code",
      "execution_count": 3,
      "metadata": {
        "id": "FIwPdXR8rdWK"
      },
      "outputs": [],
      "source": [
        "# Constants\n",
        "rho_0 = sp.Symbol('\\\\rho_0', real=True, positive=True)\n",
        "q_0 = sp.Symbol('q_0', real=True)"
      ]
    },
    {
      "cell_type": "markdown",
      "metadata": {
        "id": "P4qYwVI3nube"
      },
      "source": [
        "## Matrice Jacobiana, autovalori e autovettori\n",
        "La matrice Jacobiana del flusso è\n",
        "$$\n",
        "  \\left[\\begin{matrix}0 & 1\\\\\\frac{\\gamma \\rho^{\\gamma} k}{\\rho} - \\frac{q^{2}}{\\rho^{2}} & \\frac{2 q}{\\rho}\\end{matrix}\\right]\n",
        "$$\n",
        "Gli autovalori sono\n",
        "$$\n",
        "  \\lambda_1 = - \\frac{\\sqrt{\\gamma} \\rho^{\\frac{\\gamma}{2}} \\sqrt{k}}{\\sqrt{\\rho}} + \\frac{q}{\\rho}\n",
        "  \\qquad \\textrm{ e } \\qquad\n",
        "  \\lambda_2 = \\frac{\\sqrt{\\gamma} \\rho^{\\frac{\\gamma}{2}} \\sqrt{k}}{\\sqrt{\\rho}} + \\frac{q}{\\rho}.\n",
        "$$\n",
        "Gli autovettori sono\n",
        "$$\n",
        "  r_1 = \\left[\\begin{matrix}\\frac{\\rho^{2}}{- \\sqrt{\\gamma} \\rho^{\\frac{3}{2}} \\rho^{\\frac{\\gamma}{2}} \\sqrt{k} + \\rho q}\\\\1\\end{matrix}\\right]\n",
        "  \\qquad \\textrm{ e } \\qquad\n",
        "  r_2 = \\left[\\begin{matrix}\\frac{\\rho^{2}}{\\sqrt{\\gamma} \\rho^{\\frac{3}{2}} \\rho^{\\frac{\\gamma}{2}} \\sqrt{k} + \\rho q}\\\\1\\end{matrix}\\right].\n",
        "$$"
      ]
    },
    {
      "cell_type": "code",
      "execution_count": 18,
      "metadata": {
        "colab": {
          "base_uri": "https://localhost:8080/"
        },
        "id": "SUV_z-mfJegP",
        "outputId": "24a323ea-0ffb-4f80-e841-2e074817f135"
      },
      "outputs": [
        {
          "data": {
            "text/markdown": [
              "Matrice Jacobiana = $\\left[\\begin{matrix}0 & 1\\\\\\frac{\\gamma \\rho^{\\gamma} k}{\\rho} - \\frac{q^{2}}{\\rho^{2}} & \\frac{2 q}{\\rho}\\end{matrix}\\right]$"
            ],
            "text/plain": [
              "<IPython.core.display.Markdown object>"
            ]
          },
          "metadata": {},
          "output_type": "display_data"
        },
        {
          "data": {
            "text/markdown": [
              "$\\lambda_1 = - \\frac{\\sqrt{\\gamma} \\rho^{\\frac{\\gamma}{2}} \\sqrt{k}}{\\sqrt{\\rho}} + \\frac{q}{\\rho}$"
            ],
            "text/plain": [
              "<IPython.core.display.Markdown object>"
            ]
          },
          "metadata": {},
          "output_type": "display_data"
        },
        {
          "data": {
            "text/markdown": [
              "$\\lambda_2 = \\frac{\\sqrt{\\gamma} \\rho^{\\frac{\\gamma}{2}} \\sqrt{k}}{\\sqrt{\\rho}} + \\frac{q}{\\rho}$"
            ],
            "text/plain": [
              "<IPython.core.display.Markdown object>"
            ]
          },
          "metadata": {},
          "output_type": "display_data"
        },
        {
          "data": {
            "text/markdown": [
              "$r_1 = \\left[\\begin{matrix}\\frac{\\rho^{2}}{- \\sqrt{\\gamma} \\rho^{\\frac{3}{2}} \\rho^{\\frac{\\gamma}{2}} \\sqrt{k} + \\rho q}\\\\1\\end{matrix}\\right]$"
            ],
            "text/plain": [
              "<IPython.core.display.Markdown object>"
            ]
          },
          "metadata": {},
          "output_type": "display_data"
        },
        {
          "data": {
            "text/markdown": [
              "$r_2 = \\left[\\begin{matrix}\\frac{\\rho^{2}}{\\sqrt{\\gamma} \\rho^{\\frac{3}{2}} \\rho^{\\frac{\\gamma}{2}} \\sqrt{k} + \\rho q}\\\\1\\end{matrix}\\right]$"
            ],
            "text/plain": [
              "<IPython.core.display.Markdown object>"
            ]
          },
          "metadata": {},
          "output_type": "display_data"
        }
      ],
      "source": [
        "# pressure law\n",
        "p = k * rho**gamma\n",
        "\n",
        "# flusso\n",
        "f1 = q\n",
        "f2 = q**2/rho + p\n",
        "F = sp.Matrix([f1, f2])\n",
        "\n",
        "# Matrice Jacobiana del flusso\n",
        "DF = F.jacobian([rho, q])\n",
        "\n",
        "# autovalori\n",
        "((lam1,_,e1), (lam2,_,e2)) = DF.eigenvects()\n",
        "lam1 = sp.simplify(lam1)\n",
        "lam2 = sp.simplify(lam2)\n",
        "c = lam2 - q/rho\n",
        "e1 = e1[0]\n",
        "e2 = e2[0]\n",
        "display(Markdown(r\"Matrice Jacobiana = ${}$\".format(sp.latex(DF))))\n",
        "display(Markdown(r\"$\\lambda_1 = {}$\".format(sp.latex(lam1))))\n",
        "display(Markdown(r\"$\\lambda_2 = {}$\".format(sp.latex(lam2))))\n",
        "display(Markdown(r\"$r_1 = {}$\".format(sp.latex(e1))))\n",
        "display(Markdown(r\"$r_2 = {}$\".format(sp.latex(e2))))"
      ]
    },
    {
      "cell_type": "code",
      "execution_count": 19,
      "metadata": {},
      "outputs": [
        {
          "data": {
            "text/markdown": [
              "$\\nabla \\lambda_1 \\cdot r_1 = \\frac{\\rho^{2} \\left(- \\frac{\\gamma^{\\frac{3}{2}} \\rho^{\\frac{\\gamma}{2}} \\sqrt{k}}{2 \\rho^{\\frac{3}{2}}} + \\frac{\\sqrt{\\gamma} \\rho^{\\frac{\\gamma}{2}} \\sqrt{k}}{2 \\rho^{\\frac{3}{2}}} - \\frac{q}{\\rho^{2}}\\right)}{- \\sqrt{\\gamma} \\rho^{\\frac{3}{2}} \\rho^{\\frac{\\gamma}{2}} \\sqrt{k} + \\rho q} + \\frac{1}{\\rho}$"
            ],
            "text/plain": [
              "<IPython.core.display.Markdown object>"
            ]
          },
          "metadata": {},
          "output_type": "display_data"
        }
      ],
      "source": [
        "field_1 = lam1.diff(rho, 1) * e1[0] + lam1.diff(q, 1) * e1[1]\n",
        "\n",
        "display(Markdown(r\"$\\nabla \\lambda_1 \\cdot r_1 = {}$\".format(sp.latex(field_1))))\n"
      ]
    },
    {
      "cell_type": "markdown",
      "metadata": {
        "id": "VFFag5hBOmcY"
      },
      "source": [
        "## Curve di rarefazione\n",
        "Le curve di rarefazione sono\n",
        "$$\n",
        "  R_1 = - \\rho \\left(2 \\sqrt{2} \\sqrt{\\rho} \\sqrt{k} - 2 \\sqrt{2} \\sqrt{\\rho_{0}} \\sqrt{k}\\right) + \\frac{\\rho q_{0}}{\\rho_{0}}\n",
        "  \\qquad \\textrm{ e } \\qquad\n",
        "  R_2 =  \\rho \\left(2 \\sqrt{2} \\sqrt{\\rho} \\sqrt{k} - 2 \\sqrt{2} \\sqrt{\\rho_{0}} \\sqrt{k}\\right) + \\frac{\\rho q_{0}}{\\rho_{0}}\n",
        "$$"
      ]
    },
    {
      "cell_type": "code",
      "execution_count": null,
      "metadata": {
        "colab": {
          "base_uri": "https://localhost:8080/"
        },
        "id": "vQiwcJyFLXPH",
        "outputId": "7e0795dd-a442-4c16-dbce-2e87ed7231c1"
      },
      "outputs": [
        {
          "name": "stdout",
          "output_type": "stream",
          "text": [
            "- \\rho \\left(2 \\sqrt{2} \\sqrt{\\rho} \\sqrt{k} - 2 \\sqrt{2} \\sqrt{\\rho_{0}} \\sqrt{k}\\right) + \\frac{\\rho q_{0}}{\\rho_{0}}  eeee  \\rho \\left(2 \\sqrt{2} \\sqrt{\\rho} \\sqrt{k} - 2 \\sqrt{2} \\sqrt{\\rho_{0}} \\sqrt{k}\\right) + \\frac{\\rho q_{0}}{\\rho_{0}}\n"
          ]
        }
      ],
      "source": [
        "# Curve di rarefazione\n",
        "\n",
        "ii = sp.integrate((c/rho).subs(rho, ss), (ss, rho_0, rho))\n",
        "\n",
        "R_1 = rho*q_0/rho_0 - rho*ii\n",
        "R_2 = rho*q_0/rho_0 + rho*ii\n",
        "\n",
        "print(sp.latex(R_1), \" eeee \", sp.latex(R_2))"
      ]
    },
    {
      "cell_type": "markdown",
      "metadata": {
        "id": "IDTIkDNBybCV"
      },
      "source": [
        "## Curve di shock\n",
        "Curve di shock\n",
        "$$\n",
        "  - \\frac{\\sqrt{\\rho} \\sqrt{\\left(\\rho - \\rho_{0}\\right) \\left(\\rho^{2} k - \\rho_{0}^{2} k\\right)}}{\\sqrt{\\rho_{0}}} + \\frac{\\rho q_{0}}{\\rho_{0}}\n",
        "$$"
      ]
    },
    {
      "cell_type": "code",
      "execution_count": null,
      "metadata": {
        "colab": {
          "base_uri": "https://localhost:8080/"
        },
        "id": "F_lYhyS6xYfs",
        "outputId": "5bc32637-fc96-4577-b4a7-d20e54bff382"
      },
      "outputs": [
        {
          "name": "stdout",
          "output_type": "stream",
          "text": [
            "- \\frac{\\sqrt{\\rho} \\sqrt{\\left(\\rho - \\rho_{0}\\right) \\left(\\rho^{2} k - \\rho_{0}^{2} k\\right)}}{\\sqrt{\\rho_{0}}} + \\frac{\\rho q_{0}}{\\rho_{0}}\n"
          ]
        }
      ],
      "source": [
        "# Curve di shock\n",
        "\n",
        "S_1 = rho*q_0/rho_0 - sp.sqrt(rho*(rho-rho_0)*(p - p.subs(rho, rho_0))/rho_0)\n",
        "S_2 = S_1\n",
        "\n",
        "print(sp.latex(S_1))"
      ]
    },
    {
      "cell_type": "code",
      "execution_count": null,
      "metadata": {
        "colab": {
          "base_uri": "https://localhost:8080/",
          "height": 313
        },
        "id": "B4RLBvcqyesW",
        "outputId": "e3725a32-18c4-4efe-e27b-99b0ed3238a2"
      },
      "outputs": [
        {
          "data": {
            "image/png": "[encoded data removed]",
            "text/plain": [
              "<Figure size 432x288 with 1 Axes>"
            ]
          },
          "metadata": {
            "needs_background": "light"
          },
          "output_type": "display_data"
        },
        {
          "data": {
            "text/plain": [
              "<sympy.plotting.plot.Plot at 0x7f2c402e8d90>"
            ]
          },
          "execution_count": 7,
          "metadata": {},
          "output_type": "execute_result"
        }
      ],
      "source": [
        "# Plot delle curve di lax\n",
        "rho_00, q_00 = sp.S(1), sp.S(1)\n",
        "kk = sp.S(1)\n",
        "xx = 2\n",
        "\n",
        "# sp.plot((R_1.subs(rho_0, rho_00).subs(q_0, q_00).subs(k, kk), (rho, 0, rho_00)),\n",
        "#         (R_2.subs(rho_0, rho_00).subs(q_0, q_00).subs(k, kk), (rho, rho_00, xx)),\n",
        "#         (S_1.subs(rho_0, rho_00).subs(q_0, q_00).subs(k, kk), (rho, rho_00, xx)),\n",
        "#         (S_2.subs(rho_0, rho_00).subs(q_0, q_00).subs(k, kk), (rho, 0, rho_00)))\n",
        "\n",
        "sp.plot((R_1.subs(rho_0, rho_00).subs(q_0, q_00).subs(k, kk), (rho, 0, rho_00)))\n"
      ]
    },
    {
      "cell_type": "markdown",
      "metadata": {
        "id": "r90NdIIQ4Cbz"
      },
      "source": [
        "## Invarianti di Riemann\n",
        "Gli invarianti di Riemann sono\n",
        "$$\n",
        "v_1 = \\frac{q}{\\rho} + \\frac{2}{\\gamma - 1} \\sqrt{k \\gamma} \\rho^{\\frac{\\gamma - 1}{2}}\n",
        "\\qquad \\textrm{ e } \\qquad\n",
        "v_2 = \\frac{q}{\\rho} - \\frac{2}{\\gamma - 1} \\sqrt{k \\gamma} \\rho^{\\frac{\\gamma - 1}{2}}\n",
        "$$\n",
        "Verifichiamo che $\\nabla v_1 \\cdot r_1 = 0$ e che $\\nabla v_2 \\cdot r_2 = 0$."
      ]
    },
    {
      "cell_type": "code",
      "execution_count": null,
      "metadata": {
        "id": "6eiHQHCfYW-B"
      },
      "outputs": [],
      "source": [
        "# Riemann invariants\n",
        "\n",
        "v_1 = q/rho + 2*sp.sqrt(k*gamma)*rho**((gamma-1)/2)/(gamma-1)\n",
        "v_2 = q/rho - 2*sp.sqrt(k*gamma)*rho**((gamma-1)/2)/(gamma-1)\n",
        "\n",
        "grad_v_1 = sp.Matrix([v_1]).jacobian([rho, q])\n",
        "grad_v_2 = sp.Matrix([v_2]).jacobian([rho, q])\n",
        "\n",
        "assert sp.simplify(sp.MatMul(grad_v_1, e1).doit()[0]) == 0\n",
        "assert sp.simplify(sp.MatMul(grad_v_2, e2).doit()[0]) == 0"
      ]
    },
    {
      "cell_type": "markdown",
      "metadata": {
        "id": "7N9tn8_-Jcw2"
      },
      "source": [
        "Di conseguenza **$v_1$ è costante lungo le curve di rarefazione della prima famiglia**, mentre **$v_2$ è costante lungo le curve di rarefazione della seconda famiglia**."
      ]
    },
    {
      "cell_type": "code",
      "execution_count": null,
      "metadata": {
        "colab": {
          "base_uri": "https://localhost:8080/"
        },
        "id": "AILGHUl4Jnaf",
        "outputId": "d062bd87-c207-439d-b2ca-723b0cae1ce3"
      },
      "outputs": [
        {
          "name": "stdout",
          "output_type": "stream",
          "text": [
            "(2*sqrt(2)*\\rho_0**(3/2)*sqrt(k) + q_0)/\\rho_0\n",
            "(-2*sqrt(2)*\\rho_0**(3/2)*sqrt(k) + q_0)/\\rho_0\n"
          ]
        }
      ],
      "source": [
        "v1_su_R1 = sp.simplify(v_1.subs(q, R_1))\n",
        "v2_su_R2 = sp.simplify(v_2.subs(q, R_2))\n",
        "\n",
        "print(v1_su_R1)\n",
        "print(v2_su_R2)\n",
        "\n",
        "# non dipendono da rho\n",
        "assert rho not in v1_su_R1.free_symbols\n",
        "assert rho not in v2_su_R2.free_symbols\n",
        "\n"
      ]
    },
    {
      "cell_type": "code",
      "execution_count": null,
      "metadata": {
        "colab": {
          "base_uri": "https://localhost:8080/"
        },
        "id": "yeruEyUBK9tw",
        "outputId": "f3d0b95c-79f0-4af6-9ff4-b7d6361d2b33"
      },
      "outputs": [
        {
          "name": "stdout",
          "output_type": "stream",
          "text": [
            "4*sqrt(2)*sqrt(\\rho)*sqrt(k) - 2*sqrt(2)*sqrt(\\rho_0)*sqrt(k) + q_0/\\rho_0\n",
            "-4*sqrt(2)*sqrt(\\rho)*sqrt(k) + 2*sqrt(2)*sqrt(\\rho_0)*sqrt(k) + q_0/\\rho_0\n"
          ]
        }
      ],
      "source": [
        "v1_su_R2 = sp.simplify(v_1.subs(q, R_2))\n",
        "v2_su_R1 = sp.simplify(v_2.subs(q, R_1))\n",
        "\n",
        "print(v1_su_R2)\n",
        "print(v2_su_R1)\n",
        "\n",
        "# dipendono da rho\n",
        "assert rho in v1_su_R2.free_symbols\n",
        "assert rho in v2_su_R1.free_symbols"
      ]
    },
    {
      "cell_type": "code",
      "execution_count": null,
      "metadata": {
        "colab": {
          "base_uri": "https://localhost:8080/",
          "height": 62
        },
        "id": "VE_yPln9_zM9",
        "outputId": "21833425-caaa-48dc-9fa6-9f2e9e2bf81f"
      },
      "outputs": [
        {
          "data": {
            "text/latex": [
              "$\\displaystyle - \\frac{2 \\sqrt{2} \\rho^{3} \\sqrt{k}}{\\rho^{\\frac{5}{2}} q - \\sqrt{2} \\rho^{4} \\sqrt{k}}$"
            ],
            "text/plain": [
              "-2*sqrt(2)*\\rho**3*sqrt(k)/(\\rho**(5/2)*q - sqrt(2)*\\rho**4*sqrt(k))"
            ]
          },
          "execution_count": 13,
          "metadata": {},
          "output_type": "execute_result"
        }
      ],
      "source": [
        "# condizione per la funzione implicita (deve essere diversa da 0)\n",
        "sp.simplify(sp.MatMul(grad_v_2, e1).doit()[0])"
      ]
    },
    {
      "cell_type": "code",
      "execution_count": null,
      "metadata": {
        "colab": {
          "base_uri": "https://localhost:8080/"
        },
        "id": "8gS4KJDXQ3Hh",
        "outputId": "4532a859-fa6f-41e2-dd79-cc4ace32a25e"
      },
      "outputs": [
        {
          "name": "stdout",
          "output_type": "stream",
          "text": [
            "Complement(ConditionSet(\\rho, Eq(-sqrt(2)*\\rho**(3/2)*\\rho_0*sqrt(k) - \\rho*\\rho_0*\\sigma - 2*sqrt(2)*\\rho*\\rho_0*sqrt(k)*(sqrt(\\rho) - sqrt(\\rho_0)) + \\rho*q_0 - \\rho*(-sqrt(2)*\\rho_0**(3/2)*sqrt(k) + q_0), 0), Complexes), FiniteSet(0))\n"
          ]
        }
      ],
      "source": [
        "l1_R1 = lam1.subs(q, R_1)\n",
        "l1_r0 = lam1.subs(q, q_0).subs(rho, rho_0)\n",
        "\n",
        "eq = l1_R1 - l1_r0 - sigma\n",
        "\n",
        "sol = sp.solveset(eq, rho)\n",
        "\n",
        "print(sol)\n",
        "\n",
        "# non riesce a risolvere l'equazione!\n"
      ]
    },
    {
      "cell_type": "markdown",
      "metadata": {
        "id": "yURolkLO5FnX"
      },
      "source": [
        "Mostriamo che"
      ]
    },
    {
      "cell_type": "code",
      "execution_count": null,
      "metadata": {
        "colab": {
          "base_uri": "https://localhost:8080/",
          "height": 238
        },
        "id": "2plYBMUiY8Ll",
        "outputId": "54366f9e-7479-437c-d6d3-7a1734fcfc1a"
      },
      "outputs": [
        {
          "ename": "NameError",
          "evalue": "ignored",
          "output_type": "error",
          "traceback": [
            "\u001b[0;31m---------------------------------------------------------------------------\u001b[0m",
            "\u001b[0;31mNameError\u001b[0m                                 Traceback (most recent call last)",
            "\u001b[0;32m<ipython-input-31-89128b8a5c65>\u001b[0m in \u001b[0;36m<module>\u001b[0;34m\u001b[0m\n\u001b[1;32m      1\u001b[0m \u001b[0;31m# test\u001b[0m\u001b[0;34m\u001b[0m\u001b[0;34m\u001b[0m\u001b[0;34m\u001b[0m\u001b[0m\n\u001b[1;32m      2\u001b[0m \u001b[0;34m\u001b[0m\u001b[0m\n\u001b[0;32m----> 3\u001b[0;31m \u001b[0mRI_1_00\u001b[0m \u001b[0;34m=\u001b[0m \u001b[0mRI_1\u001b[0m\u001b[0;34m.\u001b[0m\u001b[0msubs\u001b[0m\u001b[0;34m(\u001b[0m\u001b[0mrho\u001b[0m\u001b[0;34m,\u001b[0m \u001b[0mrho_00\u001b[0m\u001b[0;34m)\u001b[0m\u001b[0;34m.\u001b[0m\u001b[0msubs\u001b[0m\u001b[0;34m(\u001b[0m\u001b[0mq\u001b[0m\u001b[0;34m,\u001b[0m \u001b[0mq_00\u001b[0m\u001b[0;34m)\u001b[0m\u001b[0;34m.\u001b[0m\u001b[0msubs\u001b[0m\u001b[0;34m(\u001b[0m\u001b[0mk\u001b[0m\u001b[0;34m,\u001b[0m \u001b[0mkk\u001b[0m\u001b[0;34m)\u001b[0m\u001b[0;34m\u001b[0m\u001b[0;34m\u001b[0m\u001b[0m\n\u001b[0m\u001b[1;32m      4\u001b[0m \u001b[0;34m\u001b[0m\u001b[0m\n\u001b[1;32m      5\u001b[0m \u001b[0;31m# on the Rarefaction\u001b[0m\u001b[0;34m\u001b[0m\u001b[0;34m\u001b[0m\u001b[0;34m\u001b[0m\u001b[0m\n",
            "\u001b[0;31mNameError\u001b[0m: name 'RI_1' is not defined"
          ]
        }
      ],
      "source": [
        "# test\n",
        "\n",
        "RI_1_00 = RI_1.subs(rho, rho_00).subs(q, q_00).subs(k, kk)\n",
        "\n",
        "# on the Rarefaction\n",
        "tmp_1 = RI_1.subs(q, R_1)\n",
        "tmp_2 = tmp_1.subs(k, kk).subs(rho_0, rho_00).subs(q_0, q_00)\n",
        "\n",
        "sp.simplify(tmp_2)\n",
        "sp.simplify(RI_1_00)\n",
        "\n",
        "#sp.plot(tmp_2, (rho, 0, rho_00))\n",
        "\n",
        "# on the shock (l'invariante non è costante!)\n",
        "tmp_3 = RI_1.subs(q, S_1)\n",
        "tmp_4 = tmp_3.subs(k, kk).subs(rho_0, rho_00).subs(q_0, q_00)\n",
        "\n",
        "sp.simplify(tmp_4)\n",
        "\n",
        "sp.plot(tmp_4, (rho, rho_00, 4))\n"
      ]
    },
    {
      "cell_type": "markdown",
      "metadata": {},
      "source": [
        "## Energia e flusso di energia"
      ]
    },
    {
      "cell_type": "markdown",
      "metadata": {},
      "source": [
        "L'energia è\n",
        "$$\n",
        "E = \\frac{q^2}{2 \\rho} + \\rho \\int_1^\\rho \\frac{p(r)}{r^2} dr.\n",
        "$$\n",
        "Il flusso di energia è\n",
        "$$\n",
        "F = \\frac{q}{\\rho} (E + p(\\rho))\n",
        "$$"
      ]
    },
    {
      "cell_type": "markdown",
      "metadata": {},
      "source": [
        "Verifichiamo che (formalmente)\n",
        "$$\n",
        "\\partial_t E + \\partial_x F = 0\n",
        "$$"
      ]
    },
    {
      "cell_type": "code",
      "execution_count": 27,
      "metadata": {},
      "outputs": [],
      "source": [
        "p = sp.Function('p')\n",
        "r = sp.Symbol('r')\n",
        "t = sp.Symbol('t')\n",
        "x = sp.Symbol('x')\n",
        "rho = sp.Function('rho')\n",
        "q = sp.Function('q')\n",
        "\n",
        "E = q(t,x)*q(t,x)/(2*rho(t,x)) + rho(t,x) * sp.Integral(p(r)/r**2, (r, 1, rho(t,x)))\n",
        "F = q(t,x)*(E + p(rho(t,x)))/ rho(t,x)\n",
        "P_1 = q(t, x) / rho(t,x) +p(rho(t, x))"
      ]
    },
    {
      "cell_type": "code",
      "execution_count": 52,
      "metadata": {},
      "outputs": [
        {
          "data": {
            "text/latex": [
              "$\\displaystyle \\frac{q^{2}{\\left(t,x \\right)}}{2 \\rho{\\left(t,x \\right)}} + \\rho{\\left(t,x \\right)} \\int\\limits_{1}^{\\rho{\\left(t,x \\right)}} \\frac{p{\\left(r \\right)}}{r^{2}}\\, dr$"
            ],
            "text/plain": [
              "q(t, x)**2/(2*rho(t, x)) + rho(t, x)*Integral(p(r)/r**2, (r, 1, rho(t, x)))"
            ]
          },
          "execution_count": 52,
          "metadata": {},
          "output_type": "execute_result"
        }
      ],
      "source": [
        "E"
      ]
    },
    {
      "cell_type": "code",
      "execution_count": 53,
      "metadata": {},
      "outputs": [
        {
          "data": {
            "text/latex": [
              "$\\displaystyle \\frac{\\left(p{\\left(\\rho{\\left(t,x \\right)} \\right)} + \\frac{q^{2}{\\left(t,x \\right)}}{2 \\rho{\\left(t,x \\right)}} + \\rho{\\left(t,x \\right)} \\int\\limits_{1}^{\\rho{\\left(t,x \\right)}} \\frac{p{\\left(r \\right)}}{r^{2}}\\, dr\\right) q{\\left(t,x \\right)}}{\\rho{\\left(t,x \\right)}}$"
            ],
            "text/plain": [
              "(p(rho(t, x)) + q(t, x)**2/(2*rho(t, x)) + rho(t, x)*Integral(p(r)/r**2, (r, 1, rho(t, x))))*q(t, x)/rho(t, x)"
            ]
          },
          "execution_count": 53,
          "metadata": {},
          "output_type": "execute_result"
        }
      ],
      "source": [
        "F"
      ]
    },
    {
      "cell_type": "code",
      "execution_count": 23,
      "metadata": {},
      "outputs": [],
      "source": [
        "E_t = E.diff(t)\n",
        "F_x = F.diff(x)"
      ]
    },
    {
      "cell_type": "code",
      "execution_count": 54,
      "metadata": {},
      "outputs": [
        {
          "data": {
            "text/latex": [
              "$\\displaystyle \\frac{p{\\left(\\rho{\\left(t,x \\right)} \\right)} \\frac{\\partial}{\\partial t} \\rho{\\left(t,x \\right)}}{\\rho{\\left(t,x \\right)}} - \\frac{q^{2}{\\left(t,x \\right)} \\frac{\\partial}{\\partial t} \\rho{\\left(t,x \\right)}}{2 \\rho^{2}{\\left(t,x \\right)}} + \\frac{q{\\left(t,x \\right)} \\frac{\\partial}{\\partial t} q{\\left(t,x \\right)}}{\\rho{\\left(t,x \\right)}} + \\frac{\\partial}{\\partial t} \\rho{\\left(t,x \\right)} \\int\\limits_{1}^{\\rho{\\left(t,x \\right)}} \\frac{p{\\left(r \\right)}}{r^{2}}\\, dr$"
            ],
            "text/plain": [
              "p(rho(t, x))*Derivative(rho(t, x), t)/rho(t, x) - q(t, x)**2*Derivative(rho(t, x), t)/(2*rho(t, x)**2) + q(t, x)*Derivative(q(t, x), t)/rho(t, x) + Derivative(rho(t, x), t)*Integral(p(r)/r**2, (r, 1, rho(t, x)))"
            ]
          },
          "execution_count": 54,
          "metadata": {},
          "output_type": "execute_result"
        }
      ],
      "source": [
        "E_t"
      ]
    },
    {
      "cell_type": "code",
      "execution_count": 65,
      "metadata": {},
      "outputs": [
        {
          "data": {
            "text/latex": [
              "$\\displaystyle - \\frac{\\left(p{\\left(\\rho{\\left(t,x \\right)} \\right)} + \\frac{q^{2}{\\left(t,x \\right)}}{2 \\rho{\\left(t,x \\right)}} + \\rho{\\left(t,x \\right)} \\int\\limits_{1}^{\\rho{\\left(t,x \\right)}} \\frac{p{\\left(r \\right)}}{r^{2}}\\, dr\\right) q{\\left(t,x \\right)} \\frac{\\partial}{\\partial x} \\rho{\\left(t,x \\right)}}{\\rho^{2}{\\left(t,x \\right)}} + \\frac{\\left(p{\\left(\\rho{\\left(t,x \\right)} \\right)} + \\frac{q^{2}{\\left(t,x \\right)}}{2 \\rho{\\left(t,x \\right)}} + \\rho{\\left(t,x \\right)} \\int\\limits_{1}^{\\rho{\\left(t,x \\right)}} \\frac{p{\\left(r \\right)}}{r^{2}}\\, dr\\right) \\frac{\\partial}{\\partial x} q{\\left(t,x \\right)}}{\\rho{\\left(t,x \\right)}} + \\frac{\\left(\\frac{p{\\left(\\rho{\\left(t,x \\right)} \\right)} \\frac{\\partial}{\\partial x} \\rho{\\left(t,x \\right)}}{\\rho{\\left(t,x \\right)}} - \\frac{q^{2}{\\left(t,x \\right)} \\frac{\\partial}{\\partial x} \\rho{\\left(t,x \\right)}}{2 \\rho^{2}{\\left(t,x \\right)}} + \\frac{q{\\left(t,x \\right)} \\frac{\\partial}{\\partial x} q{\\left(t,x \\right)}}{\\rho{\\left(t,x \\right)}} + \\frac{\\partial}{\\partial \\rho{\\left(t,x \\right)}} p{\\left(\\rho{\\left(t,x \\right)} \\right)} \\frac{\\partial}{\\partial x} \\rho{\\left(t,x \\right)} + \\frac{\\partial}{\\partial x} \\rho{\\left(t,x \\right)} \\int\\limits_{1}^{\\rho{\\left(t,x \\right)}} \\frac{p{\\left(r \\right)}}{r^{2}}\\, dr\\right) q{\\left(t,x \\right)}}{\\rho{\\left(t,x \\right)}}$"
            ],
            "text/plain": [
              "-(p(rho(t, x)) + q(t, x)**2/(2*rho(t, x)) + rho(t, x)*Integral(p(r)/r**2, (r, 1, rho(t, x))))*q(t, x)*Derivative(rho(t, x), x)/rho(t, x)**2 + (p(rho(t, x)) + q(t, x)**2/(2*rho(t, x)) + rho(t, x)*Integral(p(r)/r**2, (r, 1, rho(t, x))))*Derivative(q(t, x), x)/rho(t, x) + (p(rho(t, x))*Derivative(rho(t, x), x)/rho(t, x) - q(t, x)**2*Derivative(rho(t, x), x)/(2*rho(t, x)**2) + q(t, x)*Derivative(q(t, x), x)/rho(t, x) + Derivative(p(rho(t, x)), rho(t, x))*Derivative(rho(t, x), x) + Derivative(rho(t, x), x)*Integral(p(r)/r**2, (r, 1, rho(t, x))))*q(t, x)/rho(t, x)"
            ]
          },
          "execution_count": 65,
          "metadata": {},
          "output_type": "execute_result"
        }
      ],
      "source": [
        "F_x"
      ]
    },
    {
      "cell_type": "code",
      "execution_count": 62,
      "metadata": {},
      "outputs": [],
      "source": [
        "E_t_sub1 = E_t.subs(sp.Derivative(rho(t, x), t), -sp.Derivative(q(t,x), x)).expand()"
      ]
    },
    {
      "cell_type": "code",
      "execution_count": 63,
      "metadata": {},
      "outputs": [
        {
          "data": {
            "text/latex": [
              "$\\displaystyle - \\frac{p{\\left(\\rho{\\left(t,x \\right)} \\right)} \\frac{\\partial}{\\partial x} q{\\left(t,x \\right)}}{\\rho{\\left(t,x \\right)}} + \\frac{q^{2}{\\left(t,x \\right)} \\frac{\\partial}{\\partial x} q{\\left(t,x \\right)}}{2 \\rho^{2}{\\left(t,x \\right)}} + \\frac{q{\\left(t,x \\right)} \\frac{\\partial}{\\partial t} q{\\left(t,x \\right)}}{\\rho{\\left(t,x \\right)}} - \\frac{\\partial}{\\partial x} q{\\left(t,x \\right)} \\int\\limits_{1}^{\\rho{\\left(t,x \\right)}} \\frac{p{\\left(r \\right)}}{r^{2}}\\, dr$"
            ],
            "text/plain": [
              "-p(rho(t, x))*Derivative(q(t, x), x)/rho(t, x) + q(t, x)**2*Derivative(q(t, x), x)/(2*rho(t, x)**2) + q(t, x)*Derivative(q(t, x), t)/rho(t, x) - Derivative(q(t, x), x)*Integral(p(r)/r**2, (r, 1, rho(t, x)))"
            ]
          },
          "execution_count": 63,
          "metadata": {},
          "output_type": "execute_result"
        }
      ],
      "source": [
        "E_t_sub1"
      ]
    },
    {
      "cell_type": "code",
      "execution_count": 64,
      "metadata": {},
      "outputs": [
        {
          "data": {
            "text/latex": [
              "$\\displaystyle - \\frac{q^{3}{\\left(t,x \\right)} \\frac{\\partial}{\\partial x} \\rho{\\left(t,x \\right)}}{\\rho^{3}{\\left(t,x \\right)}} + \\frac{2 q^{2}{\\left(t,x \\right)} \\frac{\\partial}{\\partial x} q{\\left(t,x \\right)}}{\\rho^{2}{\\left(t,x \\right)}} + \\frac{q{\\left(t,x \\right)} \\frac{\\partial}{\\partial \\rho{\\left(t,x \\right)}} p{\\left(\\rho{\\left(t,x \\right)} \\right)} \\frac{\\partial}{\\partial x} \\rho{\\left(t,x \\right)}}{\\rho{\\left(t,x \\right)}} + \\frac{q{\\left(t,x \\right)} \\frac{\\partial}{\\partial t} q{\\left(t,x \\right)}}{\\rho{\\left(t,x \\right)}}$"
            ],
            "text/plain": [
              "-q(t, x)**3*Derivative(rho(t, x), x)/rho(t, x)**3 + 2*q(t, x)**2*Derivative(q(t, x), x)/rho(t, x)**2 + q(t, x)*Derivative(p(rho(t, x)), rho(t, x))*Derivative(rho(t, x), x)/rho(t, x) + q(t, x)*Derivative(q(t, x), t)/rho(t, x)"
            ]
          },
          "execution_count": 64,
          "metadata": {},
          "output_type": "execute_result"
        }
      ],
      "source": [
        "term = sp.expand(E_t_sub1 + F_x)\n",
        "\n",
        "term"
      ]
    },
    {
      "cell_type": "code",
      "execution_count": 68,
      "metadata": {},
      "outputs": [],
      "source": [
        "term2 = term.subs(sp.Derivative(q(t, x), t), -sp.Derivative(P_1, x)).expand()"
      ]
    },
    {
      "cell_type": "code",
      "execution_count": 71,
      "metadata": {},
      "outputs": [
        {
          "data": {
            "text/latex": [
              "$\\displaystyle - \\frac{q^{3}{\\left(t,x \\right)} \\frac{\\partial}{\\partial x} \\rho{\\left(t,x \\right)}}{\\rho^{3}{\\left(t,x \\right)}} + \\frac{2 q^{2}{\\left(t,x \\right)} \\frac{\\partial}{\\partial x} q{\\left(t,x \\right)}}{\\rho^{2}{\\left(t,x \\right)}} - \\frac{q{\\left(t,x \\right)} \\frac{\\partial}{\\partial x} \\left(p{\\left(\\rho{\\left(t,x \\right)} \\right)} + \\frac{q{\\left(t,x \\right)}}{\\rho{\\left(t,x \\right)}}\\right)}{\\rho{\\left(t,x \\right)}} + \\frac{q{\\left(t,x \\right)} \\frac{\\partial}{\\partial \\rho{\\left(t,x \\right)}} p{\\left(\\rho{\\left(t,x \\right)} \\right)} \\frac{\\partial}{\\partial x} \\rho{\\left(t,x \\right)}}{\\rho{\\left(t,x \\right)}}$"
            ],
            "text/plain": [
              "-q(t, x)**3*Derivative(rho(t, x), x)/rho(t, x)**3 + 2*q(t, x)**2*Derivative(q(t, x), x)/rho(t, x)**2 - q(t, x)*Derivative(p(rho(t, x)) + q(t, x)/rho(t, x), x)/rho(t, x) + q(t, x)*Derivative(p(rho(t, x)), rho(t, x))*Derivative(rho(t, x), x)/rho(t, x)"
            ]
          },
          "execution_count": 71,
          "metadata": {},
          "output_type": "execute_result"
        }
      ],
      "source": [
        "term2"
      ]
    }
  ],
  "metadata": {
    "colab": {
      "provenance": []
    },
    "kernelspec": {
      "display_name": "Python 3",
      "name": "python3"
    },
    "language_info": {
      "codemirror_mode": {
        "name": "ipython",
        "version": 3
      },
      "file_extension": ".py",
      "mimetype": "text/x-python",
      "name": "python",
      "nbconvert_exporter": "python",
      "pygments_lexer": "ipython3",
      "version": "3.10.12"
    }
  },
  "nbformat": 4,
  "nbformat_minor": 0
}
