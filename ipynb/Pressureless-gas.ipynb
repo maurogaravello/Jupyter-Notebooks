{
 "cells": [
  {
   "cell_type": "markdown",
   "metadata": {},
   "source": [
    "# Pressureless gas system"
   ]
  },
  {
   "cell_type": "markdown",
   "metadata": {},
   "source": [
    "Consideriamo il seguente sistema\n",
    "$$\n",
    "\\begin{cases}\n",
    "  \\partial_{t}\\rho +\\partial_{x} (\\rho u)=0, & t >0, \\, x \\in \\mathbb{R}\n",
    "  \\\\\n",
    "  \\partial_{t} (\\rho u) + \\partial_{x} \\left(\\rho u^2 \\right)=0, & t>0, \\ x \\in \\mathbb{R},\n",
    "\\end{cases}\n",
    "$$\n",
    "che in variabili conservate $(\\rho, q)$ con $q = \\rho u$ diventa\n",
    "$$\n",
    "\\begin{cases}\n",
    "  \\partial_{t}\\rho +\\partial_{x} q=0, & t >0, \\, x \\in \\mathbb{R}\n",
    "  \\\\\n",
    "  \\partial_{t} q + \\partial_{x} (\\frac{q^2}{\\rho})=0, & t>0, \\ x \\in \\mathbb{R},\n",
    "\\end{cases}\n",
    "$$\n"
   ]
  },
  {
   "cell_type": "code",
   "execution_count": 1,
   "metadata": {},
   "outputs": [],
   "source": [
    "import sympy as sp\n",
    "from IPython.display import Markdown"
   ]
  },
  {
   "cell_type": "code",
   "execution_count": 2,
   "metadata": {},
   "outputs": [],
   "source": [
    "# variabili\n",
    "rho = sp.Symbol('\\\\rho', real=True, positive=True)\n",
    "q = sp.Symbol('q', real=True)"
   ]
  },
  {
   "cell_type": "code",
   "execution_count": 3,
   "metadata": {},
   "outputs": [
    {
     "data": {
      "text/markdown": [
       "Matrice Jacobiana = $\\left[\\begin{matrix}0 & 1\\\\- \\frac{q^{2}}{\\rho^{2}} & \\frac{2 q}{\\rho}\\end{matrix}\\right]$"
      ],
      "text/plain": [
       "<IPython.core.display.Markdown object>"
      ]
     },
     "metadata": {},
     "output_type": "display_data"
    }
   ],
   "source": [
    "# flusso\n",
    "f1 = q\n",
    "f2 = q**2 /rho\n",
    "F = sp.Matrix([f1, f2])\n",
    "\n",
    "# Matrice Jacobiana del flusso\n",
    "DF = sp.simplify(F.jacobian([rho, q]))\n",
    "display(Markdown(r\"Matrice Jacobiana = ${}$\".format(sp.latex(DF))))"
   ]
  },
  {
   "cell_type": "markdown",
   "metadata": {},
   "source": [
    "Gli autovalori sono coincidenti"
   ]
  },
  {
   "cell_type": "code",
   "execution_count": 4,
   "metadata": {},
   "outputs": [
    {
     "data": {
      "text/latex": [
       "$\\displaystyle \\operatorname{PurePoly}{\\left( lam^{2} -  \\frac{2 q}{\\rho} lam + \\frac{q^{2}}{\\rho^{2}}, lam, domain=\\mathbb{Z}\\left(q, \\rho\\right) \\right)}$"
      ],
      "text/plain": [
       "PurePoly(lam**2 - 2*q/\\rho*lam + q**2/\\rho**2, lam, domain='ZZ(q,\\rho)')"
      ]
     },
     "metadata": {},
     "output_type": "display_data"
    }
   ],
   "source": [
    "lam = sp.Symbol('lam', real=True)\n",
    "p = DF.charpoly(lam)\n",
    "display(p)"
   ]
  },
  {
   "cell_type": "code",
   "execution_count": 9,
   "metadata": {},
   "outputs": [
    {
     "name": "stdout",
     "output_type": "stream",
     "text": [
      "Help on function eigenvects in module sympy.matrices.matrixbase:\n",
      "\n",
      "eigenvects(self, error_when_incomplete=True, iszerofunc=<function _iszero at 0x72f59c4e5fc0>, **flags)\n",
      "    Compute eigenvectors of the matrix.\n",
      "    \n",
      "    Parameters\n",
      "    ==========\n",
      "    \n",
      "    error_when_incomplete : bool, optional\n",
      "        Raise an error when not all eigenvalues are computed. This is\n",
      "        caused by ``roots`` not returning a full list of eigenvalues.\n",
      "    \n",
      "    iszerofunc : function, optional\n",
      "        Specifies a zero testing function to be used in ``rref``.\n",
      "    \n",
      "        Default value is ``_iszero``, which uses SymPy's naive and fast\n",
      "        default assumption handler.\n",
      "    \n",
      "        It can also accept any user-specified zero testing function, if it\n",
      "        is formatted as a function which accepts a single symbolic argument\n",
      "        and returns ``True`` if it is tested as zero and ``False`` if it\n",
      "        is tested as non-zero, and ``None`` if it is undecidable.\n",
      "    \n",
      "    simplify : bool or function, optional\n",
      "        If ``True``, ``as_content_primitive()`` will be used to tidy up\n",
      "        normalization artifacts.\n",
      "    \n",
      "        It will also be used by the ``nullspace`` routine.\n",
      "    \n",
      "    chop : bool or positive number, optional\n",
      "        If the matrix contains any Floats, they will be changed to Rationals\n",
      "        for computation purposes, but the answers will be returned after\n",
      "        being evaluated with evalf. The ``chop`` flag is passed to ``evalf``.\n",
      "        When ``chop=True`` a default precision will be used; a number will\n",
      "        be interpreted as the desired level of precision.\n",
      "    \n",
      "    Returns\n",
      "    =======\n",
      "    \n",
      "    ret : [(eigenval, multiplicity, eigenspace), ...]\n",
      "        A ragged list containing tuples of data obtained by ``eigenvals``\n",
      "        and ``nullspace``.\n",
      "    \n",
      "        ``eigenspace`` is a list containing the ``eigenvector`` for each\n",
      "        eigenvalue.\n",
      "    \n",
      "        ``eigenvector`` is a vector in the form of a ``Matrix``. e.g.\n",
      "        a vector of length 3 is returned as ``Matrix([a_1, a_2, a_3])``.\n",
      "    \n",
      "    Raises\n",
      "    ======\n",
      "    \n",
      "    NotImplementedError\n",
      "        If failed to compute nullspace.\n",
      "    \n",
      "    Examples\n",
      "    ========\n",
      "    \n",
      "    >>> from sympy import Matrix\n",
      "    >>> M = Matrix(3, 3, [0, 1, 1, 1, 0, 0, 1, 1, 1])\n",
      "    >>> M.eigenvects()\n",
      "    [(-1, 1, [Matrix([\n",
      "    [-1],\n",
      "    [ 1],\n",
      "    [ 0]])]), (0, 1, [Matrix([\n",
      "    [ 0],\n",
      "    [-1],\n",
      "    [ 1]])]), (2, 1, [Matrix([\n",
      "    [2/3],\n",
      "    [1/3],\n",
      "    [  1]])])]\n",
      "    \n",
      "    See Also\n",
      "    ========\n",
      "    \n",
      "    eigenvals\n",
      "    MatrixBase.nullspace\n",
      "\n"
     ]
    }
   ],
   "source": [
    "help(sp.Matrix.eigenvects)"
   ]
  },
  {
   "cell_type": "code",
   "execution_count": 5,
   "metadata": {},
   "outputs": [
    {
     "data": {
      "text/plain": [
       "[(q/\\rho,\n",
       "  2,\n",
       "  [Matrix([\n",
       "   [\\rho/q],\n",
       "   [     1]])])]"
      ]
     },
     "execution_count": 5,
     "metadata": {},
     "output_type": "execute_result"
    }
   ],
   "source": [
    "DF.eigenvects()"
   ]
  },
  {
   "cell_type": "markdown",
   "metadata": {},
   "source": [
    "Quindi l'autovalore ha molteplicità algebrica 2 e geometrica 1!\n",
    "\n",
    "Il sistema non è iperbolico!"
   ]
  },
  {
   "cell_type": "code",
   "execution_count": null,
   "metadata": {},
   "outputs": [],
   "source": [
    "# autovalori\n",
    "((lam1,_,e1),) = DF.eigenvects()\n",
    "lam1 = sp.simplify(lam1)\n",
    "display(Markdown(r\"$\\lambda_1 = {}$\".format(sp.latex(sp.expand(lam1)))))\n"
   ]
  }
 ],
 "metadata": {
  "kernelspec": {
   "display_name": "Python 3",
   "language": "python",
   "name": "python3"
  },
  "language_info": {
   "codemirror_mode": {
    "name": "ipython",
    "version": 3
   },
   "file_extension": ".py",
   "mimetype": "text/x-python",
   "name": "python",
   "nbconvert_exporter": "python",
   "pygments_lexer": "ipython3",
   "version": "3.10.12"
  }
 },
 "nbformat": 4,
 "nbformat_minor": 2
}
