{
 "cells": [
  {
   "cell_type": "markdown",
   "metadata": {},
   "source": [
    "# Superficie di rotazione di minima area\n",
    "\n",
    "Il funzionale da minimizzare è:\n",
    "$\\displaystyle\\int_a^b u(t) \\sqrt{1 + (u'(t))^2} dt$\n",
    "\n",
    "Iniziamo caricando SymPy\n"
   ]
  },
  {
   "cell_type": "code",
   "execution_count": 1,
   "metadata": {},
   "outputs": [
    {
     "name": "stdout",
     "output_type": "stream",
     "text": [
      "1.7.dev\n"
     ]
    }
   ],
   "source": [
    "from __future__ import division\n",
    "import sympy as sp\n",
    "print(sp.__version__)\n"
   ]
  },
  {
   "cell_type": "markdown",
   "metadata": {},
   "source": [
    "Ora definiamo la funzione lagrangiana\n",
    "\\begin{equation*}\n",
    "L = L(t, u, \\xi) := u \\sqrt{1 + \\xi^2}.\n",
    "\\end{equation*}"
   ]
  },
  {
   "cell_type": "code",
   "execution_count": 2,
   "metadata": {},
   "outputs": [],
   "source": [
    "t = sp.Symbol('t', real=True) # tempo\n",
    "u = sp.Symbol('u', real=True) # incognita\n",
    "xi = sp.Symbol('xi', real=True) # derivata di u\n",
    "\n",
    "L = u * sp.sqrt(1 + xi**2) # Lagrangiana\n"
   ]
  },
  {
   "cell_type": "markdown",
   "metadata": {},
   "source": [
    "Costruiamo l'equazione di Eulero-Lagrange\n",
    "\\begin{equation*}\n",
    "\\frac{d}{dt} \\partial_\\xi L(t, u(t), \\dot u(t)) = \\partial_u L(t, u(t), \\dot u(t))\n",
    "\\end{equation*}"
   ]
  },
  {
   "cell_type": "code",
   "execution_count": 16,
   "metadata": {},
   "outputs": [
    {
     "data": {
      "image/png": "[encoded data removed]",
      "text/latex": [
       "$\\displaystyle - \\sqrt{\\left(\\frac{d}{d t} y{\\left(t \\right)}\\right)^{2} + 1} + \\frac{d}{d t} \\frac{y{\\left(t \\right)} \\frac{d}{d t} y{\\left(t \\right)}}{\\sqrt{\\left(\\frac{d}{d t} y{\\left(t \\right)}\\right)^{2} + 1}}$"
      ],
      "text/plain": [
       "       _________________     ⎛         d            ⎞\n",
       "      ╱           2          ⎜    y(t)⋅──(y(t))     ⎟\n",
       "     ╱  ⎛d       ⎞         d ⎜         dt           ⎟\n",
       "-   ╱   ⎜──(y(t))⎟  + 1  + ──⎜──────────────────────⎟\n",
       "  ╲╱    ⎝dt      ⎠         dt⎜     _________________⎟\n",
       "                             ⎜    ╱           2     ⎟\n",
       "                             ⎜   ╱  ⎛d       ⎞      ⎟\n",
       "                             ⎜  ╱   ⎜──(y(t))⎟  + 1 ⎟\n",
       "                             ⎝╲╱    ⎝dt      ⎠      ⎠"
      ]
     },
     "metadata": {},
     "output_type": "display_data"
    }
   ],
   "source": [
    "L_u = L.diff(u)\n",
    "L_xi = L.diff(xi)\n",
    "y = sp.Function('y')(t)\n",
    "\n",
    "l1 = L_xi.subs(u, y).subs(xi, sp.Derivative(y, t, 1))\n",
    "l2 = L_u.subs(u, y).subs(xi, sp.Derivative(y, t, 1))\n",
    "\n",
    "eq = sp.Derivative(l1, t, 1) - l2\n",
    "\n",
    "from IPython.display import display\n",
    "display(eq)\n",
    "# ode = sp.dsolve(eq, y(t))"
   ]
  },
  {
   "cell_type": "markdown",
   "metadata": {},
   "source": [
    "In questo caso la funzione lagrangiana non dipende esplicitamente da `t`.\n",
    "Quindi si può semplificare....\n",
    "\n",
    "\\begin{equation*}\n",
    "\\frac{d}{dt} \\left[ y'(t) \\partial_\\xi L(y(t), y'(t)) - L(y(t), y'(t))\\right] = 0.\n",
    "\\end{equation*}"
   ]
  },
  {
   "cell_type": "code",
   "execution_count": null,
   "metadata": {},
   "outputs": [],
   "source": []
  }
 ],
 "metadata": {
  "kernelspec": {
   "display_name": "Python 3",
   "language": "python",
   "name": "python3"
  },
  "language_info": {
   "codemirror_mode": {
    "name": "ipython",
    "version": 3
   },
   "file_extension": ".py",
   "mimetype": "text/x-python",
   "name": "python",
   "nbconvert_exporter": "python",
   "pygments_lexer": "ipython3",
   "version": "3.6.9"
  }
 },
 "nbformat": 4,
 "nbformat_minor": 2
}
