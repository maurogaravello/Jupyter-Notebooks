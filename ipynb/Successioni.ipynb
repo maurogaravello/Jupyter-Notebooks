{
 "cells": [
  {
   "cell_type": "markdown",
   "metadata": {},
   "source": [
    "<div align=\"right\" style=\"text-align: right\"><i>Mauro Garavello<br>August 2020<br></i></div>\n",
    "\n",
    "# Successioni\n",
    "Una successione è una funzione il cui dominio è costituito dall'insieme dei numeri naturali $\\mathbb N$ o da un suo sottoinsieme con infiniti elementi.\n",
    "\n",
    "\n",
    ">1.\n",
    "\n",
    "## Grafico di una successione\n",
    "Il grafico di una successione $(a_n)_n$ è costituito dall'insieme\n",
    "$$\n",
    "\\left\\{\n",
    "(n, a_n) \\in \\mathbb R^2:\\, n \\in \\mathbb N\n",
    "\\right\\}.\n",
    "$$\n",
    "Si può rappresentare nel piano come un insieme infinito di punti.\n",
    "Ad esempio, se consideriamo la successione $a_n = n-1$ il grafico è dato dai punti $(0,-1)$, $(1, 0)$, $(2, 1)$,\n",
    "$(3, 2)$ e così via.\n"
   ]
  },
  {
   "cell_type": "code",
   "execution_count": null,
   "metadata": {},
   "outputs": [],
   "source": []
  }
 ],
 "metadata": {
  "kernelspec": {
   "display_name": "Python 3",
   "language": "python",
   "name": "python3"
  },
  "language_info": {
   "codemirror_mode": {
    "name": "ipython",
    "version": 3
   },
   "file_extension": ".py",
   "mimetype": "text/x-python",
   "name": "python",
   "nbconvert_exporter": "python",
   "pygments_lexer": "ipython3",
   "version": "3.6.9"
  }
 },
 "nbformat": 4,
 "nbformat_minor": 4
}
